{
 "cells": [
  {
   "cell_type": "markdown",
   "id": "93526065-8346-43f5-993e-7020b271ad7e",
   "metadata": {},
   "source": [
    "### Stage IV Notebook"
   ]
  },
  {
   "cell_type": "code",
   "execution_count": null,
   "id": "d9725615-e5f6-4ae7-96c8-d5676ab8d090",
   "metadata": {},
   "outputs": [],
   "source": []
  }
 ],
 "metadata": {
  "kernelspec": {
   "display_name": "Python 3 (ipykernel)",
   "language": "python",
   "name": "python3"
  },
  "language_info": {
   "codemirror_mode": {
    "name": "ipython",
    "version": 3
   },
   "file_extension": ".py",
   "mimetype": "text/x-python",
   "name": "python",
   "nbconvert_exporter": "python",
   "pygments_lexer": "ipython3",
   "version": "3.11.7"
  }
 },
 "nbformat": 4,
 "nbformat_minor": 5
}
